{
 "cells": [
  {
   "cell_type": "code",
   "execution_count": 1,
   "metadata": {},
   "outputs": [],
   "source": [
    "import os"
   ]
  },
  {
   "cell_type": "code",
   "execution_count": 2,
   "metadata": {},
   "outputs": [
    {
     "data": {
      "text/plain": [
       "'c:\\\\Users\\\\chandan kumar\\\\OneDrive\\\\Documents\\\\Ml_Dl_projects\\\\cnn_chestdesies_classifaction\\\\chest_desies_classifaction\\\\research'"
      ]
     },
     "execution_count": 2,
     "metadata": {},
     "output_type": "execute_result"
    }
   ],
   "source": [
    "%pwd"
   ]
  },
  {
   "cell_type": "code",
   "execution_count": 3,
   "metadata": {},
   "outputs": [],
   "source": [
    "os.chdir(\"../\")"
   ]
  },
  {
   "cell_type": "code",
   "execution_count": 4,
   "metadata": {},
   "outputs": [
    {
     "data": {
      "text/plain": [
       "'c:\\\\Users\\\\chandan kumar\\\\OneDrive\\\\Documents\\\\Ml_Dl_projects\\\\cnn_chestdesies_classifaction\\\\chest_desies_classifaction'"
      ]
     },
     "execution_count": 4,
     "metadata": {},
     "output_type": "execute_result"
    }
   ],
   "source": [
    "%pwd"
   ]
  },
  {
   "cell_type": "code",
   "execution_count": 5,
   "metadata": {},
   "outputs": [
    {
     "name": "stdout",
     "output_type": "stream",
     "text": [
      " Volume in drive C is Windows\n",
      " Volume Serial Number is 0065-5060\n",
      "\n",
      " Directory of c:\\Users\\chandan kumar\\OneDrive\\Documents\\Ml_Dl_projects\\cnn_chestdesies_classifaction\\chest_desies_classifaction\n",
      "\n",
      "08-05-2024  13:25    <DIR>          .\n",
      "08-05-2024  13:25    <DIR>          ..\n",
      "06-05-2024  11:00    <DIR>          .github\n",
      "06-05-2024  11:32             3,246 .gitignore\n",
      "08-05-2024  13:25    <DIR>          artifacts\n",
      "07-05-2024  14:54    <DIR>          cancer\n",
      "06-05-2024  10:56    <DIR>          config\n",
      "06-05-2024  11:00                 0 dvc.yaml\n",
      "06-05-2024  09:47             1,089 LICENSE\n",
      "07-05-2024  11:29    <DIR>          logs\n",
      "07-05-2024  11:29                83 main.py\n",
      "08-05-2024  09:32                 8 params.yaml\n",
      "06-05-2024  09:47                28 README.md\n",
      "07-05-2024  10:17               194 requirements.txt\n",
      "07-05-2024  16:33    <DIR>          research\n",
      "07-05-2024  10:06               838 setup.py\n",
      "07-05-2024  10:07    <DIR>          src\n",
      "06-05-2024  10:56    <DIR>          templates\n",
      "06-05-2024  11:00             1,296 templates.py\n",
      "               9 File(s)          6,782 bytes\n",
      "              10 Dir(s)  55,359,131,648 bytes free\n"
     ]
    }
   ],
   "source": [
    "%ls"
   ]
  },
  {
   "cell_type": "code",
   "execution_count": 6,
   "metadata": {},
   "outputs": [],
   "source": [
    "from dataclasses import dataclass\n",
    "from pathlib import Path\n",
    "\n",
    "@dataclass(frozen=True)\n",
    "class DataIngestionConfig:\n",
    "    root_dir: Path\n",
    "    source_URL: str\n",
    "    local_data_file: Path\n",
    "    unzip_dir: Path"
   ]
  },
  {
   "cell_type": "code",
   "execution_count": 7,
   "metadata": {},
   "outputs": [],
   "source": [
    "from src.chest_des_clasf.constants import *\n",
    "from src.chest_des_clasf.utils.common import read_yaml, create_directories"
   ]
  },
  {
   "cell_type": "code",
   "execution_count": 8,
   "metadata": {},
   "outputs": [],
   "source": [
    "class ConfigurationManager:\n",
    "    def __init__(self, config_filepath = CONFIG_FILE_PATH, params_filepath= PARAMS_FILE_PATH):\n",
    "        self.config = read_yaml(config_filepath)\n",
    "        self.params = read_yaml(params_filepath)\n",
    "        \n",
    "        create_directories([self.config.artifacts_root])\n",
    "\n",
    "    def get_data_ingestion_config(self) -> DataIngestionConfig:\n",
    "        config = self.config.data_ingestion\n",
    "\n",
    "        create_directories([config.root_dir])\n",
    "\n",
    "        data_ingestion_config= DataIngestionConfig(\n",
    "            root_dir=config.root_dir,\n",
    "            source_URL=config.source_URL,\n",
    "            local_data_file= config.local_data_file,\n",
    "            unzip_dir= config.unzip_dir,\n",
    "        )\n",
    "\n",
    "        return data_ingestion_config"
   ]
  },
  {
   "cell_type": "code",
   "execution_count": 9,
   "metadata": {},
   "outputs": [],
   "source": [
    "import os\n",
    "import zipfile\n",
    "import gdown\n",
    "from src.chest_des_clasf import logger\n",
    "from src.chest_des_clasf.utils.common import get_size"
   ]
  },
  {
   "cell_type": "code",
   "execution_count": 10,
   "metadata": {},
   "outputs": [],
   "source": [
    "class DataIngestion:\n",
    "    def __init__(self, config: DataIngestionConfig):\n",
    "        self.config = config\n",
    "\n",
    "\n",
    "    def download_file(self)-> str:\n",
    "        \"\"\"\n",
    "        Fetch data from url\n",
    "        \"\"\"\n",
    "\n",
    "        try:\n",
    "            dataset_url= self.config.source_URL\n",
    "            zip_download_dir= self.config.local_data_file\n",
    "            os.makedirs(\"artifacts/data_ingestion\", exist_ok=True)\n",
    "            logger.info(f\"Downloading data from {dataset_url} into file {zip_download_dir}\")\n",
    "            file_id = dataset_url.split(\"/\")[-2]\n",
    "            prefix = 'https://drive.google.com/uc?/export=download&id='\n",
    "            gdown.download(prefix+file_id, zip_download_dir)\n",
    "\n",
    "            logger.info(f\"Downloading data from {dataset_url} into file {zip_download_dir}\")\n",
    "        except Exception as e:\n",
    "            raise e\n",
    "    \n",
    "    def extract_zip_file(self):\n",
    "\n",
    "        unzip_path = self.config.unzip_dir\n",
    "        os.makedirs(unzip_path, exist_ok=True)\n",
    "        with zipfile.ZipFile(self.config.local_data_file, 'r') as zip_ref:\n",
    "            zip_ref.extractall(unzip_path)\n",
    "        \n",
    "\n",
    "        "
   ]
  },
  {
   "cell_type": "code",
   "execution_count": 11,
   "metadata": {},
   "outputs": [
    {
     "name": "stdout",
     "output_type": "stream",
     "text": [
      "[2024-05-08 13:40:59,614: INFO: common: yaml file config\\config.yaml loaded successfully]\n",
      "[2024-05-08 13:40:59,619: INFO: common: yaml file params.yaml loaded successfully]\n",
      "[2024-05-08 13:40:59,622: INFO: common: create directory at: artifacts ]\n",
      "[2024-05-08 13:40:59,625: INFO: common: create directory at: artifacts/data_ingestion ]\n",
      "[2024-05-08 13:40:59,632: INFO: 2298189005: Downloading data from https://drive.google.com/file/d/1-mWHiiaEakcUUn80wepV7-giulE2x4vJ/view?usp=sharing into file artifacts/data_ingestion/chestclass.zip]\n"
     ]
    },
    {
     "name": "stderr",
     "output_type": "stream",
     "text": [
      "Downloading...\n",
      "From (original): https://drive.google.com/uc?/export=download&id=1-mWHiiaEakcUUn80wepV7-giulE2x4vJ\n",
      "From (redirected): https://drive.google.com/uc?%2Fexport=download&id=1-mWHiiaEakcUUn80wepV7-giulE2x4vJ&confirm=t&uuid=25e715f4-c9be-46eb-9333-4d0590494cb9\n",
      "To: c:\\Users\\chandan kumar\\OneDrive\\Documents\\Ml_Dl_projects\\cnn_chestdesies_classifaction\\chest_desies_classifaction\\artifacts\\data_ingestion\\chestclass.zip\n",
      "100%|██████████| 52.4M/52.4M [00:11<00:00, 4.57MB/s]\n"
     ]
    },
    {
     "name": "stdout",
     "output_type": "stream",
     "text": [
      "[2024-05-08 13:41:16,327: INFO: 2298189005: Downloading data from https://drive.google.com/file/d/1-mWHiiaEakcUUn80wepV7-giulE2x4vJ/view?usp=sharing into file artifacts/data_ingestion/chestclass.zip]\n"
     ]
    }
   ],
   "source": [
    "try:\n",
    "    config = ConfigurationManager()\n",
    "    data_ingestion_config = config.get_data_ingestion_config()\n",
    "    data_ingestion = DataIngestion(config=data_ingestion_config)\n",
    "    data_ingestion.download_file()\n",
    "    data_ingestion.extract_zip_file()\n",
    "except Exception as e:\n",
    "    raise e\n"
   ]
  }
 ],
 "metadata": {
  "kernelspec": {
   "display_name": "cancer",
   "language": "python",
   "name": "python3"
  },
  "language_info": {
   "codemirror_mode": {
    "name": "ipython",
    "version": 3
   },
   "file_extension": ".py",
   "mimetype": "text/x-python",
   "name": "python",
   "nbconvert_exporter": "python",
   "pygments_lexer": "ipython3",
   "version": "3.12.2"
  }
 },
 "nbformat": 4,
 "nbformat_minor": 2
}
